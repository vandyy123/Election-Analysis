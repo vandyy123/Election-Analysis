{
 "cells": [
  {
   "cell_type": "code",
   "execution_count": 1,
   "id": "bd26d980",
   "metadata": {},
   "outputs": [],
   "source": [
    "import numpy as np\n",
    "import pandas as pd\n",
    "import matplotlib.pyplot as plt\n",
    "pd.set_option('display.max_columns', None)\n",
    "import seaborn as sns"
   ]
  },
  {
   "cell_type": "code",
   "execution_count": null,
   "id": "053fd0d5",
   "metadata": {},
   "outputs": [],
   "source": [
    "# Got data from https://www.ncsbe.gov/results-data/voter-registration-data\n",
    "# Downloaded it this morning"
   ]
  },
  {
   "cell_type": "markdown",
   "id": "a9b79b6b",
   "metadata": {},
   "source": [
    "## Load the Watauga and NC datasets"
   ]
  },
  {
   "cell_type": "code",
   "execution_count": 2,
   "id": "5f06630c",
   "metadata": {},
   "outputs": [
    {
     "data": {
      "text/html": [
       "<div>\n",
       "<style scoped>\n",
       "    .dataframe tbody tr th:only-of-type {\n",
       "        vertical-align: middle;\n",
       "    }\n",
       "\n",
       "    .dataframe tbody tr th {\n",
       "        vertical-align: top;\n",
       "    }\n",
       "\n",
       "    .dataframe thead th {\n",
       "        text-align: right;\n",
       "    }\n",
       "</style>\n",
       "<table border=\"1\" class=\"dataframe\">\n",
       "  <thead>\n",
       "    <tr style=\"text-align: right;\">\n",
       "      <th></th>\n",
       "      <th>zip_code</th>\n",
       "      <th>registr_dt</th>\n",
       "      <th>race_code</th>\n",
       "      <th>ethnic_code</th>\n",
       "      <th>party_cd</th>\n",
       "      <th>gender_code</th>\n",
       "      <th>birth_year</th>\n",
       "    </tr>\n",
       "  </thead>\n",
       "  <tbody>\n",
       "    <tr>\n",
       "      <th>0</th>\n",
       "      <td>28608.0</td>\n",
       "      <td>09/24/2019</td>\n",
       "      <td>U</td>\n",
       "      <td>UN</td>\n",
       "      <td>UNA</td>\n",
       "      <td>U</td>\n",
       "      <td>2001</td>\n",
       "    </tr>\n",
       "    <tr>\n",
       "      <th>1</th>\n",
       "      <td>28607.0</td>\n",
       "      <td>09/24/2015</td>\n",
       "      <td>W</td>\n",
       "      <td>NL</td>\n",
       "      <td>UNA</td>\n",
       "      <td>M</td>\n",
       "      <td>1996</td>\n",
       "    </tr>\n",
       "    <tr>\n",
       "      <th>2</th>\n",
       "      <td>28604.0</td>\n",
       "      <td>04/11/2017</td>\n",
       "      <td>W</td>\n",
       "      <td>NL</td>\n",
       "      <td>DEM</td>\n",
       "      <td>F</td>\n",
       "      <td>1963</td>\n",
       "    </tr>\n",
       "    <tr>\n",
       "      <th>3</th>\n",
       "      <td>28607.0</td>\n",
       "      <td>08/24/2017</td>\n",
       "      <td>W</td>\n",
       "      <td>NL</td>\n",
       "      <td>DEM</td>\n",
       "      <td>F</td>\n",
       "      <td>1999</td>\n",
       "    </tr>\n",
       "    <tr>\n",
       "      <th>4</th>\n",
       "      <td>28607.0</td>\n",
       "      <td>10/25/2024</td>\n",
       "      <td>A</td>\n",
       "      <td>NL</td>\n",
       "      <td>UNA</td>\n",
       "      <td>M</td>\n",
       "      <td>2003</td>\n",
       "    </tr>\n",
       "  </tbody>\n",
       "</table>\n",
       "</div>"
      ],
      "text/plain": [
       "   zip_code  registr_dt race_code ethnic_code party_cd gender_code  birth_year\n",
       "0   28608.0  09/24/2019         U          UN      UNA           U        2001\n",
       "1   28607.0  09/24/2015         W          NL      UNA           M        1996\n",
       "2   28604.0  04/11/2017         W          NL      DEM           F        1963\n",
       "3   28607.0  08/24/2017         W          NL      DEM           F        1999\n",
       "4   28607.0  10/25/2024         A          NL      UNA           M        2003"
      ]
     },
     "execution_count": 2,
     "metadata": {},
     "output_type": "execute_result"
    }
   ],
   "source": [
    "file = 'ncvoter95.txt'\n",
    "\n",
    "wat_df = pd.read_csv(\n",
    "    file,\n",
    "    delimiter=\"\\t\",        \n",
    "    usecols = ['zip_code', 'registr_dt', 'race_code', 'ethnic_code', 'party_cd', 'gender_code', 'birth_year'],\n",
    "  #  index_col = 'registr_dt',\n",
    "    encoding=\"latin-1\",    # handles special characters\n",
    ")\n",
    "wat_df.head()"
   ]
  },
  {
   "cell_type": "code",
   "execution_count": 3,
   "id": "66fd2ec6",
   "metadata": {},
   "outputs": [
    {
     "data": {
      "text/html": [
       "<div>\n",
       "<style scoped>\n",
       "    .dataframe tbody tr th:only-of-type {\n",
       "        vertical-align: middle;\n",
       "    }\n",
       "\n",
       "    .dataframe tbody tr th {\n",
       "        vertical-align: top;\n",
       "    }\n",
       "\n",
       "    .dataframe thead th {\n",
       "        text-align: right;\n",
       "    }\n",
       "</style>\n",
       "<table border=\"1\" class=\"dataframe\">\n",
       "  <thead>\n",
       "    <tr style=\"text-align: right;\">\n",
       "      <th></th>\n",
       "      <th>zip_code</th>\n",
       "      <th>registr_dt</th>\n",
       "      <th>race_code</th>\n",
       "      <th>ethnic_code</th>\n",
       "      <th>party_cd</th>\n",
       "      <th>gender_code</th>\n",
       "      <th>birth_year</th>\n",
       "    </tr>\n",
       "  </thead>\n",
       "  <tbody>\n",
       "    <tr>\n",
       "      <th>0</th>\n",
       "      <td>NaN</td>\n",
       "      <td>10/01/1984</td>\n",
       "      <td>W</td>\n",
       "      <td>NL</td>\n",
       "      <td>UNA</td>\n",
       "      <td>F</td>\n",
       "      <td>1935</td>\n",
       "    </tr>\n",
       "    <tr>\n",
       "      <th>1</th>\n",
       "      <td>NaN</td>\n",
       "      <td>02/23/2018</td>\n",
       "      <td>W</td>\n",
       "      <td>UN</td>\n",
       "      <td>UNA</td>\n",
       "      <td>F</td>\n",
       "      <td>1978</td>\n",
       "    </tr>\n",
       "    <tr>\n",
       "      <th>2</th>\n",
       "      <td>27302.0</td>\n",
       "      <td>10/31/2020</td>\n",
       "      <td>W</td>\n",
       "      <td>UN</td>\n",
       "      <td>REP</td>\n",
       "      <td>M</td>\n",
       "      <td>1966</td>\n",
       "    </tr>\n",
       "    <tr>\n",
       "      <th>3</th>\n",
       "      <td>27215.0</td>\n",
       "      <td>03/26/1996</td>\n",
       "      <td>W</td>\n",
       "      <td>UN</td>\n",
       "      <td>UNA</td>\n",
       "      <td>F</td>\n",
       "      <td>1976</td>\n",
       "    </tr>\n",
       "    <tr>\n",
       "      <th>4</th>\n",
       "      <td>27215.0</td>\n",
       "      <td>08/15/1989</td>\n",
       "      <td>W</td>\n",
       "      <td>NL</td>\n",
       "      <td>UNA</td>\n",
       "      <td>F</td>\n",
       "      <td>1945</td>\n",
       "    </tr>\n",
       "  </tbody>\n",
       "</table>\n",
       "</div>"
      ],
      "text/plain": [
       "   zip_code  registr_dt race_code ethnic_code party_cd gender_code  birth_year\n",
       "0       NaN  10/01/1984         W          NL      UNA           F        1935\n",
       "1       NaN  02/23/2018         W          UN      UNA           F        1978\n",
       "2   27302.0  10/31/2020         W          UN      REP           M        1966\n",
       "3   27215.0  03/26/1996         W          UN      UNA           F        1976\n",
       "4   27215.0  08/15/1989         W          NL      UNA           F        1945"
      ]
     },
     "execution_count": 3,
     "metadata": {},
     "output_type": "execute_result"
    }
   ],
   "source": [
    "file = 'ncvoter_Statewide.txt'\n",
    "\n",
    "nc_df = pd.read_csv(\n",
    "    file,\n",
    "    delimiter=\"\\t\",        \n",
    "    usecols = ['zip_code', 'registr_dt', 'race_code', 'ethnic_code', 'party_cd', 'gender_code', 'birth_year'],\n",
    " #   index_col = 'registr_dt',\n",
    "    encoding=\"latin-1\",    # handles special characters\n",
    ")\n",
    "nc_df.head()"
   ]
  },
  {
   "cell_type": "markdown",
   "id": "6fc2cdda",
   "metadata": {},
   "source": [
    "## Clean and filter Watauga dataset"
   ]
  },
  {
   "cell_type": "code",
   "execution_count": 4,
   "id": "b0bbdd16",
   "metadata": {},
   "outputs": [],
   "source": [
    "wat_df = wat_df[wat_df['registr_dt'] != '##/##/####']\n",
    "wat_df['registr_dt'] = pd.to_datetime(wat_df['registr_dt'])\n",
    "wat_df = wat_df.set_index('registr_dt')\n",
    "\n",
    "wat_df_asc = wat_df.sort_index(ascending=True)"
   ]
  },
  {
   "cell_type": "code",
   "execution_count": 5,
   "id": "d949c339",
   "metadata": {},
   "outputs": [
    {
     "data": {
      "text/plain": [
       "zip_code       1568\n",
       "race_code      1568\n",
       "ethnic_code    1568\n",
       "party_cd       1568\n",
       "gender_code    1568\n",
       "birth_year     1568\n",
       "dtype: int64"
      ]
     },
     "execution_count": 5,
     "metadata": {},
     "output_type": "execute_result"
    }
   ],
   "source": [
    "watdf_current = wat_df_asc.loc['08/01/2025':]\n",
    "watdf_past = wat_df_asc.loc['08/01/2023':'10/29/2023']\n",
    "watdf_current.count()"
   ]
  },
  {
   "cell_type": "markdown",
   "id": "48a9c27a",
   "metadata": {},
   "source": [
    "## Clean and filter NC dataset"
   ]
  },
  {
   "cell_type": "code",
   "execution_count": 6,
   "id": "4498fbae",
   "metadata": {},
   "outputs": [],
   "source": [
    "nc_df = nc_df[nc_df['registr_dt'] != '##/##/####']\n",
    "nc_df['registr_dt'] = pd.to_datetime(nc_df['registr_dt'])\n",
    "nc_df = nc_df.set_index('registr_dt')\n",
    "\n",
    "nc_df_asc = nc_df.sort_index(ascending=True)"
   ]
  },
  {
   "cell_type": "code",
   "execution_count": 7,
   "id": "34f0edb2",
   "metadata": {},
   "outputs": [
    {
     "data": {
      "text/plain": [
       "zip_code       104899\n",
       "race_code      104902\n",
       "ethnic_code    104902\n",
       "party_cd       104902\n",
       "gender_code    104902\n",
       "birth_year     104902\n",
       "dtype: int64"
      ]
     },
     "execution_count": 7,
     "metadata": {},
     "output_type": "execute_result"
    }
   ],
   "source": [
    "ncdf_current = nc_df_asc.loc['08/01/2025':]\n",
    "ncdf_past = nc_df_asc.loc['08/01/2023':'10/29/2023']\n",
    "ncdf_current.count()"
   ]
  },
  {
   "cell_type": "markdown",
   "id": "1ea7f89e",
   "metadata": {},
   "source": [
    "## Plots!"
   ]
  },
  {
   "cell_type": "code",
   "execution_count": 8,
   "id": "936d0898",
   "metadata": {},
   "outputs": [
    {
     "data": {
      "text/html": [
       "<div>\n",
       "<style scoped>\n",
       "    .dataframe tbody tr th:only-of-type {\n",
       "        vertical-align: middle;\n",
       "    }\n",
       "\n",
       "    .dataframe tbody tr th {\n",
       "        vertical-align: top;\n",
       "    }\n",
       "\n",
       "    .dataframe thead th {\n",
       "        text-align: right;\n",
       "    }\n",
       "</style>\n",
       "<table border=\"1\" class=\"dataframe\">\n",
       "  <thead>\n",
       "    <tr style=\"text-align: right;\">\n",
       "      <th></th>\n",
       "      <th>DEM</th>\n",
       "      <th>REP</th>\n",
       "      <th>UNA</th>\n",
       "      <th>OTR (LIB, GRE)</th>\n",
       "    </tr>\n",
       "  </thead>\n",
       "  <tbody>\n",
       "    <tr>\n",
       "      <th>NC</th>\n",
       "      <td>22716</td>\n",
       "      <td>24164</td>\n",
       "      <td>57184</td>\n",
       "      <td>838</td>\n",
       "    </tr>\n",
       "    <tr>\n",
       "      <th>Watuaga</th>\n",
       "      <td>363</td>\n",
       "      <td>219</td>\n",
       "      <td>965</td>\n",
       "      <td>21</td>\n",
       "    </tr>\n",
       "  </tbody>\n",
       "</table>\n",
       "</div>"
      ],
      "text/plain": [
       "           DEM    REP    UNA  OTR (LIB, GRE)\n",
       "NC       22716  24164  57184             838\n",
       "Watuaga    363    219    965              21"
      ]
     },
     "execution_count": 8,
     "metadata": {},
     "output_type": "execute_result"
    }
   ],
   "source": [
    "# Create dataframe\n",
    "# Group miscellaneous parties into one\n",
    "\n",
    "data_df = {\n",
    "    'NC': ncdf_current['party_cd'].value_counts(),\n",
    "    'Watuaga': watdf_current['party_cd'].value_counts()\n",
    "}\n",
    "\n",
    "party_df = pd.DataFrame(data_df)\n",
    "party = party_df.T\n",
    "party['OTR (LIB, GRE)'] = party['LIB'] + party['GRE']\n",
    "party = party.drop(['LIB', 'GRE'], axis = 1)\n",
    "party"
   ]
  },
  {
   "cell_type": "code",
   "execution_count": 21,
   "id": "b10e5a6d",
   "metadata": {},
   "outputs": [
    {
     "data": {
      "text/plain": [
       "<Axes: title={'center': 'Watauga Party Reg Voters (since 8/1)'}>"
      ]
     },
     "execution_count": 21,
     "metadata": {},
     "output_type": "execute_result"
    },
    {
     "data": {
      "image/png": "[encoded data removed]",
      "text/plain": [
       "<Figure size 1000x600 with 2 Axes>"
      ]
     },
     "metadata": {},
     "output_type": "display_data"
    }
   ],
   "source": [
    "fig, axes = plt.subplots(1, 2, figsize = (10, 6))\n",
    "\n",
    "ncdf_current['party_cd'].value_counts().plot(ax = axes[0], kind = 'bar', stacked = True, title = 'NC Party New Reg Voters (since 8/1)', color = ['grey', 'blue', 'red', 'green'])\n",
    "\n",
    "watdf_current['party_cd'].value_counts().plot(ax = axes[1], kind = 'bar', stacked = True, title = 'Watauga Party New Reg Voters (since 8/1)', color = ['grey', 'blue', 'red', 'green'])"
   ]
  },
  {
   "cell_type": "code",
   "execution_count": 16,
   "id": "d97b67e0",
   "metadata": {},
   "outputs": [
    {
     "data": {
      "text/html": [
       "<div>\n",
       "<style scoped>\n",
       "    .dataframe tbody tr th:only-of-type {\n",
       "        vertical-align: middle;\n",
       "    }\n",
       "\n",
       "    .dataframe tbody tr th {\n",
       "        vertical-align: top;\n",
       "    }\n",
       "\n",
       "    .dataframe thead th {\n",
       "        text-align: right;\n",
       "    }\n",
       "</style>\n",
       "<table border=\"1\" class=\"dataframe\">\n",
       "  <thead>\n",
       "    <tr style=\"text-align: right;\">\n",
       "      <th></th>\n",
       "      <th>F</th>\n",
       "      <th>M</th>\n",
       "      <th>U</th>\n",
       "    </tr>\n",
       "  </thead>\n",
       "  <tbody>\n",
       "    <tr>\n",
       "      <th>NC</th>\n",
       "      <td>45854</td>\n",
       "      <td>40891</td>\n",
       "      <td>18157</td>\n",
       "    </tr>\n",
       "    <tr>\n",
       "      <th>Watuaga</th>\n",
       "      <td>690</td>\n",
       "      <td>619</td>\n",
       "      <td>259</td>\n",
       "    </tr>\n",
       "  </tbody>\n",
       "</table>\n",
       "</div>"
      ],
      "text/plain": [
       "             F      M      U\n",
       "NC       45854  40891  18157\n",
       "Watuaga    690    619    259"
      ]
     },
     "execution_count": 16,
     "metadata": {},
     "output_type": "execute_result"
    }
   ],
   "source": [
    "# Create dataframe\n",
    "\n",
    "data_df = {\n",
    "    'NC': ncdf_current['gender_code'].value_counts(),\n",
    "    'Watuaga': watdf_current['gender_code'].value_counts()\n",
    "}\n",
    "\n",
    "gen_df = pd.DataFrame(data_df)\n",
    "gender = gen_df.T\n",
    "gender"
   ]
  },
  {
   "cell_type": "code",
   "execution_count": 19,
   "id": "99538459",
   "metadata": {},
   "outputs": [
    {
     "data": {
      "text/plain": [
       "<Axes: title={'center': 'Watauga Gender'}>"
      ]
     },
     "execution_count": 19,
     "metadata": {},
     "output_type": "execute_result"
    },
    {
     "data": {
      "image/png": "[encoded data removed]",
      "text/plain": [
       "<Figure size 1000x600 with 2 Axes>"
      ]
     },
     "metadata": {},
     "output_type": "display_data"
    }
   ],
   "source": [
    "fig, axes = plt.subplots(1, 2, figsize = (10, 6))\n",
    "\n",
    "ncdf_current['gender_code'].value_counts().plot(ax = axes[0], kind = 'bar', stacked = True, title = 'NC Gender', color = ['magenta', 'blue', 'grey'])\n",
    "\n",
    "watdf_current['gender_code'].value_counts().plot(ax = axes[1], kind = 'bar', stacked = True, title = 'Watauga Gender', color = ['magenta', 'blue', 'gray'])"
   ]
  },
  {
   "cell_type": "code",
   "execution_count": null,
   "id": "03c3f6dc",
   "metadata": {},
   "outputs": [],
   "source": []
  },
  {
   "cell_type": "code",
   "execution_count": null,
   "id": "0264d57d",
   "metadata": {},
   "outputs": [],
   "source": []
  },
  {
   "cell_type": "code",
   "execution_count": null,
   "id": "388f6955",
   "metadata": {},
   "outputs": [],
   "source": []
  },
  {
   "cell_type": "code",
   "execution_count": null,
   "id": "39c3ac1c",
   "metadata": {},
   "outputs": [],
   "source": []
  },
  {
   "cell_type": "code",
   "execution_count": null,
   "id": "b34f6dd2",
   "metadata": {},
   "outputs": [],
   "source": []
  }
 ],
 "metadata": {
  "kernelspec": {
   "display_name": "Python 3 (ipykernel)",
   "language": "python",
   "name": "python3"
  },
  "language_info": {
   "codemirror_mode": {
    "name": "ipython",
    "version": 3
   },
   "file_extension": ".py",
   "mimetype": "text/x-python",
   "name": "python",
   "nbconvert_exporter": "python",
   "pygments_lexer": "ipython3",
   "version": "3.11.4"
  }
 },
 "nbformat": 4,
 "nbformat_minor": 5
}
